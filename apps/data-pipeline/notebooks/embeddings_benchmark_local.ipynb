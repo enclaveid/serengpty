{
 "cells": [
  {
   "cell_type": "code",
   "execution_count": null,
   "metadata": {},
   "outputs": [],
   "source": [
    "from sentence_transformers import SentenceTransformer\n",
    "\n",
    "model = SentenceTransformer(\"nvidia/NV-Embed-v2\", trust_remote_code=True)\n",
    "model.max_seq_length = 32768\n",
    "model.tokenizer.padding_side = \"right\""
   ]
  },
  {
   "cell_type": "code",
   "execution_count": null,
   "metadata": {},
   "outputs": [],
   "source": [
    "def get_embeddings(texts):\n",
    "    padded_texts = [i + model.tokenizer.eos_token for i in texts]\n",
    "\n",
    "    embeddings = model.encode(\n",
    "        padded_texts,\n",
    "        normalize_embeddings=True,\n",
    "        batch_size=1,\n",
    "    )\n",
    "    \n",
    "    return embeddings.tolist()\n"
   ]
  },
  {
   "cell_type": "code",
   "execution_count": null,
   "metadata": {},
   "outputs": [],
   "source": [
    "import faiss\n",
    "import numpy as np\n",
    "\n",
    "def get_similarities(query_embedding, embeddings):\n",
    "\n",
    "    query_embedding = np.array(query_embedding, dtype=np.float32).reshape(1, -1)\n",
    "    embeddings = np.array(embeddings, dtype=np.float32)\n",
    "\n",
    "    dimension = embeddings.shape[1]\n",
    "    index = faiss.IndexFlatIP(dimension)\n",
    "    index.add(embeddings)  # type: ignore\n",
    "\n",
    "    scores, indices = index.search(query_embedding, len(embeddings))  # type: ignore\n",
    "\n",
    "    return scores, indices\n"
   ]
  },
  {
   "cell_type": "code",
   "execution_count": null,
   "metadata": {},
   "outputs": [],
   "source": [
    "import numpy as np\n",
    "def cosine_similarity(vec1, vec2):\n",
    "    \"\"\"\n",
    "    Calculate cosine similarity between two vectors.\n",
    "    \"\"\"\n",
    "    dot_product = np.dot(vec1, vec2)\n",
    "    norm1 = np.linalg.norm(vec1)\n",
    "    norm2 = np.linalg.norm(vec2)\n",
    "    return dot_product / (norm1 * norm2)"
   ]
  },
  {
   "cell_type": "code",
   "execution_count": null,
   "metadata": {},
   "outputs": [],
   "source": [
    "text1 = \"The user requests a rephrasing of a statement regarding the benefits and drawbacks of being a for-profit entity, focusing on scalability through capital and the risk of values misalignment.\"\n",
    "text2 = \"The individual seeks an alternative formulation of a proposition concerning the advantages and limitations of operating as a profit-driven organization, highlighting growth potential through investment and the possible misalignment of core principles.\"\n",
    "\n",
    "embeddings1 = get_embeddings([text1])[0]\n",
    "embeddings2 = get_embeddings([text2])[0]\n",
    "\n",
    "score = cosine_similarity(embeddings1, embeddings2)\n",
    "\n",
    "print(score)"
   ]
  },
  {
   "cell_type": "code",
   "execution_count": null,
   "metadata": {},
   "outputs": [],
   "source": []
  }
 ],
 "metadata": {
  "kernelspec": {
   "display_name": ".venv",
   "language": "python",
   "name": "python3"
  },
  "language_info": {
   "codemirror_mode": {
    "name": "ipython",
    "version": 3
   },
   "file_extension": ".py",
   "mimetype": "text/x-python",
   "name": "python",
   "nbconvert_exporter": "python",
   "pygments_lexer": "ipython3",
   "version": "3.12.7"
  }
 },
 "nbformat": 4,
 "nbformat_minor": 2
}
{
 "cells": [
  {
   "cell_type": "markdown",
   "metadata": {},
   "source": [
    "# Embeddings Benchmark\n",
    "\n",
    "This notebook provides a simple way to compare embeddings between two texts using the DeepInfra API."
   ]
  },
  {
   "cell_type": "code",
   "execution_count": null,
   "metadata": {},
   "outputs": [],
   "source": [
    "# Import necessary libraries\n",
    "import os\n",
    "import numpy as np\n",
    "import httpx\n",
    "import matplotlib.pyplot as plt\n",
    "from typing import List, Optional\n",
    "from dotenv import load_dotenv\n",
    "import asyncio\n",
    "\n",
    "# Load environment variables if you have a .env file\n",
    "load_dotenv()"
   ]
  },
  {
   "cell_type": "code",
   "execution_count": null,
   "metadata": {},
   "outputs": [],
   "source": [
    "# Simple implementation of embeddings client without batching\n",
    "class SimpleDeepInfraEmbedder:\n",
    "    \"\"\"\n",
    "    A simplified client for obtaining embeddings from the DeepInfra API.\n",
    "    This version doesn't include batching or advanced features.\n",
    "    \"\"\"\n",
    "    \n",
    "    def __init__(\n",
    "        self,\n",
    "        api_key: str,\n",
    "        base_url: str = \"https://api.deepinfra.com/v1/inference/BAAI/bge-en-icl\",\n",
    "    ):\n",
    "        self.base_url = base_url\n",
    "        self.api_key = api_key\n",
    "        self.client = httpx.AsyncClient(timeout=60, verify=False)\n",
    "    \n",
    "    async def get_embedding(self, text: str) -> List[float]:\n",
    "        \"\"\"\n",
    "        Get embeddings for a single text.\n",
    "        \"\"\"\n",
    "        payload = {\n",
    "            \"inputs\": [text],\n",
    "            \"normalize\": True,\n",
    "        }\n",
    "        \n",
    "        response = await self.client.post(\n",
    "            self.base_url,\n",
    "            json=payload,\n",
    "            headers={\n",
    "                \"Content-Type\": \"application/json\",\n",
    "                \"Authorization\": f\"Bearer {self.api_key}\",\n",
    "            },\n",
    "        )\n",
    "        response.raise_for_status()\n",
    "        \n",
    "        json_response = response.json()\n",
    "        return json_response[\"embeddings\"][0]\n",
    "    \n",
    "    async def close(self):\n",
    "        await self.client.aclose()"
   ]
  },
  {
   "cell_type": "code",
   "execution_count": null,
   "metadata": {},
   "outputs": [],
   "source": [
    "# Helper functions for comparing embeddings\n",
    "def cosine_similarity(vec1, vec2):\n",
    "    \"\"\"\n",
    "    Calculate cosine similarity between two vectors.\n",
    "    \"\"\"\n",
    "    dot_product = np.dot(vec1, vec2)\n",
    "    norm1 = np.linalg.norm(vec1)\n",
    "    norm2 = np.linalg.norm(vec2)\n",
    "    return dot_product / (norm1 * norm2)\n",
    "\n",
    "def euclidean_distance(vec1, vec2):\n",
    "    \"\"\"\n",
    "    Calculate Euclidean distance between two vectors.\n",
    "    \"\"\"\n",
    "    return np.linalg.norm(np.array(vec1) - np.array(vec2))\n",
    "\n",
    "async def compare_texts(embedder, text1, text2):\n",
    "    \"\"\"\n",
    "    Compare two texts by computing their embeddings and similarity metrics.\n",
    "    \"\"\"\n",
    "    try:\n",
    "        # Get embeddings for both texts\n",
    "        embedding1 = await embedder.get_embedding(text1)\n",
    "        embedding2 = await embedder.get_embedding(text2)\n",
    "        \n",
    "        # Calculate similarity metrics\n",
    "        similarity = cosine_similarity(embedding1, embedding2)\n",
    "        distance = euclidean_distance(embedding1, embedding2)\n",
    "        \n",
    "        return {\n",
    "            \"embedding1\": embedding1,\n",
    "            \"embedding2\": embedding2,\n",
    "            \"cosine_similarity\": similarity,\n",
    "            \"euclidean_distance\": distance\n",
    "        }\n",
    "    except Exception as e:\n",
    "        print(f\"Error comparing texts: {e}\")\n",
    "        return None"
   ]
  },
  {
   "cell_type": "code",
   "execution_count": null,
   "metadata": {},
   "outputs": [],
   "source": [
    "# Initialize the embedder with your API key\n",
    "api_key = os.environ.get(\"DEEPINFRA_API_KEY\")\n",
    "if not api_key:\n",
    "    api_key = input(\"Enter your DeepInfra API key: \")\n",
    "\n",
    "embedder = SimpleDeepInfraEmbedder(api_key=api_key)"
   ]
  },
  {
   "cell_type": "code",
   "execution_count": null,
   "metadata": {},
   "outputs": [],
   "source": [
    "# Example usage: Compare two texts\n",
    "text1 = \"cat\"\n",
    "text2 = \"tiger\"\n",
    "\n",
    "# For Jupyter, we need to run async functions with asyncio\n",
    "results = await compare_texts(embedder, text1, text2)\n",
    "\n",
    "print(f\"Cosine Similarity: {results['cosine_similarity']:.4f}\")\n",
    "print(f\"Euclidean Distance: {results['euclidean_distance']:.4f}\")"
   ]
  },
  {
   "cell_type": "code",
   "execution_count": null,
   "metadata": {},
   "outputs": [],
   "source": []
  }
 ],
 "metadata": {
  "kernelspec": {
   "display_name": ".venv",
   "language": "python",
   "name": "python3"
  },
  "language_info": {
   "codemirror_mode": {
    "name": "ipython",
    "version": 3
   },
   "file_extension": ".py",
   "mimetype": "text/x-python",
   "name": "python",
   "nbconvert_exporter": "python",
   "pygments_lexer": "ipython3",
   "version": "3.12.7"
  }
 },
 "nbformat": 4,
 "nbformat_minor": 4
}
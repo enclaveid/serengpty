{
 "cells": [
  {
   "cell_type": "code",
   "execution_count": null,
   "metadata": {},
   "outputs": [],
   "source": [
    "import networkx as nx\n",
    "from pathlib import Path\n",
    "import polars as pl\n",
    "\n",
    "data_dir = Path().absolute() / \"..\" / \"data\"\n",
    "\n",
    "df = pl.read_parquet(data_dir / \"dagster/long_range_causality/cm0i27jdj0000aqpa73ghpcxf.snappy\")\n",
    "\n",
    "df = df.with_columns(\n",
    "    relationships=pl.concat_list(pl.col(\"row_idx\"), pl.col(\"caused_by\")).map_elements(\n",
    "        lambda pair: [{\"source\": pair[0], \"target\": i} for i in pair[1:]]\n",
    "    ),\n",
    ")\n",
    "\n"
   ]
  },
  {
   "cell_type": "code",
   "execution_count": null,
   "metadata": {},
   "outputs": [],
   "source": [
    "# Find shortest path between two nodes\n",
    "nx.shortest_path(G, source=\"emotional_vulnerability\", target=\"context_misaligned_expectations\")"
   ]
  },
  {
   "cell_type": "code",
   "execution_count": null,
   "metadata": {},
   "outputs": [],
   "source": []
  }
 ],
 "metadata": {
  "kernelspec": {
   "display_name": ".venv",
   "language": "python",
   "name": "python3"
  },
  "language_info": {
   "codemirror_mode": {
    "name": "ipython",
    "version": 3
   },
   "file_extension": ".py",
   "mimetype": "text/x-python",
   "name": "python",
   "nbconvert_exporter": "python",
   "pygments_lexer": "ipython3",
   "version": "3.12.7"
  }
 },
 "nbformat": 4,
 "nbformat_minor": 2
}